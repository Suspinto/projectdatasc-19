{
  "nbformat": 4,
  "nbformat_minor": 0,
  "metadata": {
    "colab": {
      "name": "Data Science Project_Group19.ipynb",
      "provenance": [],
      "collapsed_sections": [],
      "include_colab_link": true
    },
    "kernelspec": {
      "name": "python3",
      "display_name": "Python 3"
    }
  },
  "cells": [
    {
      "cell_type": "markdown",
      "metadata": {
        "id": "view-in-github",
        "colab_type": "text"
      },
      "source": [
        "<a href=\"https://colab.research.google.com/github/Suspinto/projectdatasc-19/blob/main/Data_Science_Project_Group19.ipynb\" target=\"_parent\"><img src=\"https://colab.research.google.com/assets/colab-badge.svg\" alt=\"Open In Colab\"/></a>"
      ]
    },
    {
      "cell_type": "markdown",
      "metadata": {
        "id": "0vkTXuokBAa_"
      },
      "source": [
        "# **Analysis of the Covid-19 Situation in Germany**\n",
        "\n",
        "In this project we present the evolution of cases from day zero in Germany, as well as deaths, the number of free and occupied beds by day.\n",
        "\n",
        "Our main objective of this analysis, is to allow the user a more simplified way to access the desired results - data by month, by State and totals.\n",
        "Furthermore, the user is invited to use the help functions to get diagrams of certain \"Bundesländer\" in certain time periods.\n",
        "\n",
        "After extensive research of available Corona data we imported useful data and started with the first cleaning steps.\n",
        "\n",
        "\n",
        "\n"
      ]
    },
    {
      "cell_type": "code",
      "metadata": {
        "id": "OEdejhPiX8Xh",
        "outputId": "8e8b71fc-4e22-42be-81b0-cf7a8b5bf72c",
        "colab": {
          "base_uri": "https://localhost:8080/"
        }
      },
      "source": [
        "# Imports\n",
        "import pandas as pd\n",
        "import numpy as np\n",
        "import datetime\n",
        "from datetime import timedelta\n",
        "from google.colab import drive\n",
        "drive.mount('/content/drive')"
      ],
      "execution_count": 67,
      "outputs": [
        {
          "output_type": "stream",
          "text": [
            "Drive already mounted at /content/drive; to attempt to forcibly remount, call drive.mount(\"/content/drive\", force_remount=True).\n"
          ],
          "name": "stdout"
        }
      ]
    },
    {
      "cell_type": "code",
      "metadata": {
        "id": "FCXNuNbLeEss"
      },
      "source": [
        "# Read hospitals file for all bundesländer\n",
        "nrw = pd.read_csv(\"/content/drive/My Drive/TechlabsProjectGroup19/NRW.csv\")\n",
        "nrw.insert(0,\"Bundesland\",\"Nordrhein-Westfalen\")\n",
        "bw = pd.read_csv(\"/content/drive/My Drive/TechlabsProjectGroup19/badenWuerttemberg.csv\")\n",
        "bw.insert(0,\"Bundesland\",\"Baden-Würtemberg\")\n",
        "bayern = pd.read_csv(\"/content/drive/My Drive/TechlabsProjectGroup19/bayern.csv\")\n",
        "bayern.insert(0,\"Bundesland\",\"Bayern\")\n",
        "berlin = pd.read_csv(\"/content/drive/My Drive/TechlabsProjectGroup19/berlin.csv\")\n",
        "berlin.insert(0,\"Bundesland\",\"Berlin\")\n",
        "brandenburg = pd.read_csv(\"/content/drive/My Drive/TechlabsProjectGroup19/brandenburg.csv\")\n",
        "brandenburg.insert(0,\"Bundesland\",\"Brandenburg\")\n",
        "bremen = pd.read_csv(\"/content/drive/My Drive/TechlabsProjectGroup19/bremen.csv\")\n",
        "bremen.insert(0,\"Bundesland\",\"Bremen\")\n",
        "hamburg = pd.read_csv(\"/content/drive/My Drive/TechlabsProjectGroup19/hamburg.csv\")\n",
        "hamburg.insert(0,\"Bundesland\",\"Hamburg\")\n",
        "hessen = pd.read_csv(\"/content/drive/My Drive/TechlabsProjectGroup19/hessen.csv\")\n",
        "hessen.insert(0,\"Bundesland\",\"Hessen\")\n",
        "mvp = pd.read_csv(\"/content/drive/My Drive/TechlabsProjectGroup19/meckpom.csv\")\n",
        "mvp.insert(0,\"Bundesland\",\"Mecklenburg-Vorpommern\")\n",
        "ns = pd.read_csv(\"/content/drive/My Drive/TechlabsProjectGroup19/niedersachsen.csv\")\n",
        "ns.insert(0,\"Bundesland\",\"Niedersachsen\")\n",
        "rp = pd.read_csv(\"/content/drive/My Drive/TechlabsProjectGroup19/rheinlandPfalz.csv\")\n",
        "rp.insert(0,\"Bundesland\",\"Rheinland Pfalz\")\n",
        "saarland = pd.read_csv(\"/content/drive/My Drive/TechlabsProjectGroup19/saarland.csv\")\n",
        "saarland.insert(0,\"Bundesland\",\"Saarland\")\n",
        "sachsen = pd.read_csv(\"/content/drive/My Drive/TechlabsProjectGroup19/sachsen.csv\")\n",
        "sachsen.insert(0,\"Bundesland\",\"Sachsen\")\n",
        "sachsenanhalt = pd.read_csv(\"/content/drive/My Drive/TechlabsProjectGroup19/sachsenAnhalt.csv\")\n",
        "sachsenanhalt.insert(0,\"Bundesland\",\"Sachsen-Anhalt\")\n",
        "sh = pd.read_csv(\"/content/drive/My Drive/TechlabsProjectGroup19/schleswigHolstein.csv\")\n",
        "sh.insert(0,\"Bundesland\",\"Schleswig-Holstein\")\n",
        "thueringen = pd.read_csv(\"/content/drive/My Drive/TechlabsProjectGroup19/thueringen.csv\")\n",
        "thueringen.insert(0,\"Bundesland\",\"Thüringen\")\n",
        "\n",
        "# Merge into one dataframe \"hospitalsmerged\"\n",
        "hospitalsMerged =pd.concat([nrw,bw,bayern,berlin,brandenburg,bremen,hamburg,hessen,mvp,ns,rp,saarland,sachsen,sachsenanhalt,sh,thueringen])\n",
        "\n",
        "# Change \"meldedatum\" from object to datetime\n",
        "hospitalsMerged.dtypes\n",
        "for i in range(len(hospitalsMerged)) :\n",
        "  date = str(hospitalsMerged.iloc[i, 1]).split(\"T\")\n",
        "  hospitalsMerged.iloc[i, 1]= date[0]\n",
        "\n",
        "hospitalsMerged[\"date\"]= pd.to_datetime(hospitalsMerged[\"date\"],format='%Y-%m-%d')"
      ],
      "execution_count": 68,
      "outputs": []
    },
    {
      "cell_type": "markdown",
      "metadata": {
        "id": "IHW7h_HxaJu3"
      },
      "source": [
        "# Cleaning and Preparation\n",
        "\n",
        "In this phase, we perform the cleaning of the data and its preparation, for possible manipulation and creation of diagrams without the occurrence of concordance errors.\n",
        "\n",
        "*Converting the data type to the correct one (example: data that indicates dates) is essential to avoid tracebacks throughout the creation of the script. Dropping the redundant columns to avoid unnecessary excess of information.*"
      ]
    },
    {
      "cell_type": "code",
      "metadata": {
        "id": "0n54rb5aJvGQ"
      },
      "source": [
        "# Read corona cases and deaths for all German \"kreise\" - Change the patch here\n",
        "\n",
        "casesAndDeaths = pd.read_csv(\"/content/drive/My Drive/TechlabsProjectGroup19/RKI_COVID19.csv\")\n",
        "\n",
        "#Drop redundant columns\n",
        "\n",
        "cols = [0,1,3,9,10,13,14,15,16,17]\n",
        "casesAndDeaths=casesAndDeaths.drop(casesAndDeaths.columns[cols], axis=1)\n",
        "casesAndDeaths.head(50)\n",
        "\n",
        "# Change \"meldedatum\" from object to datetime\n",
        "\n",
        "casesAndDeaths.dtypes\n",
        "casesAndDeaths[\"Meldedatum\"]= pd.to_datetime(casesAndDeaths[\"Meldedatum\"],format='%Y/%m/%d %H:%M:%S')\n",
        "casesAndDeaths.dtypes\n",
        "\n",
        "#sort cases death and sex by bundesland and date \n",
        "\n",
        "casesAndDeaths.sort_values(by=['Bundesland', 'Meldedatum'], inplace=True)\n",
        "casesAndDeaths.head(50)\n",
        "\n",
        "# Get cases and deaths for each bundesland on each day\n",
        "\n",
        "bundeslaender = [\"Schleswig-Holstein\",\"Hamburg\",\"Niedersachsen\",\"Bremen\",\"Nordrhein-Westfalen\",\"Hessen\",\"Rheinland-Pfalz\",\"Baden-Württemberg\",\"Bayern\",\"Saarland\",\"Berlin\",\"Brandenburg\",\"Mecklenburg-Vorpommern\",\"Sachsen\",\"Sachsen-Anhalt\",\"Thüringen\"]\n",
        "yearindex = pd.date_range(start=\"2020-01-01\",end=\"2020-12-31\",freq='D')\n",
        "merged = pd.DataFrame(index=yearindex)\n",
        "for bundesland in bundeslaender:\n",
        "  casesAndDeathsBundesland = casesAndDeaths[casesAndDeaths['Bundesland']== bundesland]\n",
        "  redundantcolumns = [1,6,7]\n",
        "  casesAndDeathsBundesland = casesAndDeathsBundesland.drop(casesAndDeathsBundesland.columns[redundantcolumns], axis=1)\n",
        "  casesAndDeathsBundesland=casesAndDeathsBundesland[['Bundesland','AnzahlFall', 'AnzahlTodesfall', 'Meldedatum']].groupby('Meldedatum').sum()\n",
        "  casesAndDeathsBundesland.insert(0,bundesland,bundesland)\n",
        "\n",
        "\n",
        "# Get free and available beds + emergency reserve and deaths for each bundesland on each day\n",
        "\n",
        "  holder = hospitalsMerged[hospitalsMerged['Bundesland']== bundesland]\n",
        "  holder = holder.set_index(\"date\")\n",
        "  holder = holder.drop(columns=[\"Bundesland\"])\n",
        "\n",
        "# Merge cases, deaths, available and free beds + emergency capacity\n",
        "\n",
        "  casesAndDeathsBundesland = pd.concat([casesAndDeathsBundesland,holder],axis=1)\n",
        "\n",
        "  if (len(merged)==0):\n",
        "    merged = casesAndDeathsBundesland\n",
        "  else:\n",
        "    merged = pd.concat([merged,casesAndDeathsBundesland],axis=1)\n",
        "\n",
        "#Fill empty cells with 0/name of bundesland\n",
        "\n",
        "for column in merged.columns:\n",
        "  if (column == \"AnzahlFall\" or column==\"AnzahlTodesfall\") :\n",
        "      merged[column] = merged[column].replace(r'\\s+', np.nan, regex=True)\n",
        "      merged[column] = merged[column].fillna(0)\n",
        "  elif (column in bundeslaender):\n",
        "      merged[column]= column\n",
        "\n",
        "#Select relevant dates\n",
        "\n",
        "today = \"22.10.2020\"\n",
        "merged = merged.loc[\"20.03.2020  00:00:00\":today]\n",
        "merged.to_excel(\"merged.xlsx\")"
      ],
      "execution_count": 70,
      "outputs": []
    },
    {
      "cell_type": "markdown",
      "metadata": {
        "id": "1xdwVAf1bnrI"
      },
      "source": [
        "#Help Functions\n",
        "In this step, we created some help functions that return the desired data.\n",
        "Again, users are invited to use the functions and input the desired variables.\n",
        "Instructions on how to do so can be found in the code.\n"
      ]
    },
    {
      "cell_type": "code",
      "metadata": {
        "id": "f_PquYtWYL71"
      },
      "source": [
        "# Help functions to select data for diagrams\n",
        "\n",
        "cases = 1\n",
        "deaths = 2\n",
        "freeBeds = 3\n",
        "occBeds = 4\n",
        "reserved = 5\n",
        "bundeslaender = [\"Schleswig-Holstein\",\"Hamburg\",\"Niedersachsen\",\"Bremen\",\"Nordrhein-Westfalen\",\"Hessen\",\"Rheinland-Pfalz\",\"Baden-Württemberg\",\"Bayern\",\"Saarland\",\"Berlin\",\"Brandenburg\",\"Mecklenburg-Vorpommern\",\"Sachsen\",\"Sachsen-Anhalt\",\"Thüringen\"]\n",
        "\n",
        "# Cases and deaths overall between 20.03.2020 and today (22.10.2020)\n",
        "\n",
        "def sumCalcOverall(statistic): # where statistic is either cases, deaths, freeBeds, occBeds or reserved \n",
        "  sum = 0\n",
        "  for bundesland in bundeslaender:\n",
        "    ind = merged.columns.get_loc(bundesland)\n",
        "    loc = ind + statistic\n",
        "    sum = sum + merged.iloc[:,loc].sum()\n",
        "  return sum\n",
        "\n",
        "casesGermany = sumCalcOverall(cases)\n",
        "deathsGermany = sumCalcOverall(deaths)\n",
        "\n",
        "# Cases and deaths overall for a certain date\n",
        "def sumCalcOverallDate(statistic, startdate, enddate): # where statistic is either cases, deaths, freeBeds, occBeds or reserved \n",
        "  sum = 0\n",
        "  selection = merged.loc[startdate:enddate]\n",
        "  selection.to_excel(\"selection.xlsx\")\n",
        "  for bundesland in bundeslaender:\n",
        "    ind = selection.columns.get_loc(bundesland)\n",
        "    loc = ind + statistic\n",
        "    sum = sum + selection.iloc[:,loc].sum()\n",
        "  return sum"
      ],
      "execution_count": 53,
      "outputs": []
    },
    {
      "cell_type": "code",
      "metadata": {
        "id": "uedqQXwvcnWo",
        "outputId": "9a8be0e7-b0a1-433e-a71c-e473b658b023",
        "colab": {
          "base_uri": "https://localhost:8080/"
        }
      },
      "source": [
        "# Cases and deaths per bundesland between 20.03.2020 and today (22.10.2020)\n",
        "\n",
        "def sumCalcBL(bundesland,statistic): # where statistic is either cases, deaths, freeBeds, occBeds or reserved ; bundesland is either \"Schleswig-Holstein\",\"Hamburg\",\"Niedersachsen\",\"Bremen\",\"Nordrhein-Westfalen\",\"Hessen\",\"Rheinland-Pfalz\",\"Baden-Württemberg\",\"Bayern\",\"Saarland\",\"Berlin\",\"Brandenburg\",\"Mecklenburg-Vorpommern\",\"Sachsen\",\"Sachsen-Anhalt\",\"Thüringen\"\n",
        "  ind = merged.columns.get_loc(bundesland)\n",
        "  loc = ind + statistic\n",
        "  return merged.iloc[:,loc].sum()\n",
        " \n",
        "casesSchleswig = sumCalcBL(bundeslaender[0],cases)\n",
        "deathsSchleswig = sumCalcBL(bundeslaender[0],deaths)\n",
        "casesHamburg = sumCalcBL(bundeslaender[1],cases)\n",
        "deathsHamburg = sumCalcBL(bundeslaender[1],deaths)\n",
        "casesNiedersachsen = sumCalcBL(bundeslaender[2],cases)\n",
        "deathsNiedersachsen = sumCalcBL(bundeslaender[2],deaths)\n",
        "casesBremen = sumCalcBL(bundeslaender[3],cases)\n",
        "deathsBremen =sumCalcBL(bundeslaender[3],deaths)\n",
        "casesNordrhein = sumCalcBL(bundeslaender[4],cases)\n",
        "deathsNordrhein =sumCalcBL(bundeslaender[4],deaths)\n",
        "casesHessen = sumCalcBL(bundeslaender[5],cases)\n",
        "deathsHessen = sumCalcBL(bundeslaender[5],deaths)\n",
        "casesRheinland = sumCalcBL(bundeslaender[6],cases)\n",
        "deathsRheinland = sumCalcBL(bundeslaender[6],deaths)\n",
        "casesBaden = sumCalcBL(bundeslaender[7],cases)\n",
        "deathsBaden = sumCalcBL(bundeslaender[7],deaths)\n",
        "casesBayern = sumCalcBL(bundeslaender[8],cases)\n",
        "deathsBayern = sumCalcBL(bundeslaender[8],deaths)\n",
        "casesSaarland = sumCalcBL(bundeslaender[9],cases)\n",
        "deathsSaarland = sumCalcBL(bundeslaender[9],deaths)\n",
        "casesBerlin = sumCalcBL(bundeslaender[10],cases)\n",
        "deathsBerlin = sumCalcBL(bundeslaender[10],deaths)\n",
        "casesBrandenburg = sumCalcBL(bundeslaender[11],cases)\n",
        "deathsBrandenburg = sumCalcBL(bundeslaender[11],deaths)\n",
        "casesMecklenburg = sumCalcBL(bundeslaender[12],cases)\n",
        "deathsMecklenburg = sumCalcBL(bundeslaender[12],deaths)\n",
        "casesSachsen = sumCalcBL(bundeslaender[13],cases)\n",
        "deathsSachsen = sumCalcBL(bundeslaender[13],deaths)\n",
        "casesAnhalt = sumCalcBL(bundeslaender[14],cases)\n",
        "deathsAnhalt = sumCalcBL(bundeslaender[14],deaths)\n",
        "casesThüringen = sumCalcBL(bundeslaender[15],cases)\n",
        "deathsThüringen = sumCalcBL(bundeslaender[15],deaths)\n",
        "\n",
        "# Select all cases and deaths in Germany based on a certain day\n",
        "def sumCalcDate(date, statistic): # where statistic is either cases, deaths, freeBeds, occBeds or reserved ; date format Y-M-D\n",
        "  sum = 0\n",
        "  selection = merged.loc[date:date]\n",
        "  for bundesland in bundeslaender:\n",
        "    ind = selection.columns.get_loc(bundesland)\n",
        "    loc = ind + statistic\n",
        "    sum = sum + selection.iloc[:,loc].sum()\n",
        "  return sum\n",
        "\n",
        "print (sumCalcDate(\"20.10.2020\",deaths))\n",
        "\n",
        "# Select all cases and deaths per bundesland based on a certain day\n",
        "def sumCalcBundeslandDate(date,bundesland,statistic): # where statistic is either cases, deaths, freeBeds, occBeds or reserved ; date format Y-M-D\n",
        "  sum = 0\n",
        "  selection = merged.loc[date:date]\n",
        "  ind = selection.columns.get_loc(bundesland)\n",
        "  loc = ind + statistic\n",
        "  return selection.iloc[:,loc].sum()\n",
        "\n",
        "print (sumCalcBundeslandDate(\"19.10.2020\",\"Schleswig-Holstein\",deaths))"
      ],
      "execution_count": 49,
      "outputs": [
        {
          "output_type": "stream",
          "text": [
            "34.0\n",
            "2.0\n"
          ],
          "name": "stdout"
        }
      ]
    },
    {
      "cell_type": "code",
      "metadata": {
        "id": "w4hCweB-bzQb"
      },
      "source": [
        "#Get last seven days in array tage\n",
        "\n",
        "def calcLastSevenDays(year,month,day):\n",
        "  today = datetime.datetime(year,month,day)\n",
        "  lastweek = today - timedelta(days=7)\n",
        "\n",
        "  days = [\"day1\",\"day2\",\"day3\",\"day4\",\"day5\",\"day6\",\"day7\"]\n",
        "  tage = []\n",
        "  i=0\n",
        "  for day in days:\n",
        "    day = today - timedelta(days=i)\n",
        "    i =i+1\n",
        "    tage.append(day)\n",
        "  return tage"
      ],
      "execution_count": 71,
      "outputs": []
    },
    {
      "cell_type": "code",
      "metadata": {
        "id": "S14NROEWb52m",
        "outputId": "c0b94b2e-53f1-40f8-ee99-78c64fb685bd",
        "colab": {
          "base_uri": "https://localhost:8080/"
        }
      },
      "source": [
        "# Get statistics for each day on a certain daterange\n",
        "\n",
        "def sumCalcDateRange(year,month,day,statistic): # where statistic is either cases, deaths, freeBeds, occBeds or reserved ; date format Y-M-D\n",
        "  statisticPerDay =[]\n",
        "  datelist = calcLastSevenDays(year,month,day)\n",
        "  print(datelist)\n",
        "  for day in datelist:\n",
        "    sum = 0\n",
        "    selection = merged.loc[day:day]\n",
        "    for bundesland in bundeslaender:\n",
        "      ind = selection.columns.get_loc(bundesland)\n",
        "      loc = ind + statistic\n",
        "      sum = sum + selection.iloc[:,loc].sum()\n",
        "    statisticPerDay.append(sum)\n",
        "  return statisticPerDay\n",
        "\n",
        "def sumCalcDateRangeBL(year,month,day,statistic,BL): # where statistic is either cases, deaths, freeBeds, occBeds or reserved ; date format Y-M-D\n",
        "  statisticPerDay =[]\n",
        "  datelist = calcLastSevenDays(year,month,day)\n",
        "  print(datelist)\n",
        "  for day in datelist:\n",
        "    sum = 0\n",
        "    selection = merged.loc[day:day]\n",
        "    for bundesland in bundeslaender:\n",
        "      if (bundesland == BL):\n",
        "        ind = selection.columns.get_loc(bundesland)\n",
        "        loc = ind + statistic\n",
        "        sum = sum + selection.iloc[:,loc].sum()\n",
        "        statisticPerDay.append(sum)\n",
        "  return statisticPerDay\n",
        "\n",
        "print(sumCalcDateRangeBL(2020,10,22,cases,\"Nordrhein-Westfalen\"))"
      ],
      "execution_count": 72,
      "outputs": [
        {
          "output_type": "stream",
          "text": [
            "[datetime.datetime(2020, 10, 22, 0, 0), datetime.datetime(2020, 10, 21, 0, 0), datetime.datetime(2020, 10, 20, 0, 0), datetime.datetime(2020, 10, 19, 0, 0), datetime.datetime(2020, 10, 18, 0, 0), datetime.datetime(2020, 10, 17, 0, 0), datetime.datetime(2020, 10, 16, 0, 0)]\n",
            "[3876.0, 3003.0, 2195.0, 1518.0, 1176.0, 1610.0, 2030.0]\n"
          ],
          "name": "stdout"
        }
      ]
    },
    {
      "cell_type": "code",
      "metadata": {
        "id": "9a2it_9tW_g8",
        "outputId": "dc037589-3001-449d-9e70-c1b2044ce2e9",
        "colab": {
          "base_uri": "https://localhost:8080/"
        }
      },
      "source": [
        "import numpy as np\n",
        "import matplotlib.pyplot as plt\n",
        "\n",
        "casesMarch = sumCalcOverallDate(cases,\"2020-03-20\",\"2020-03-31\")\n",
        "deathsMarch = sumCalcOverallDate(deaths,\"2020-03-20\",\"2020-03-31\")\n",
        "freebedsMarch = sumCalcOverallDate(freeBeds,\"2020-03-20\",\"2020-03-31\")\n",
        "occbedsMarch = sumCalcOverallDate(occBeds,\"2020-03-20\",\"2020-03-31\")\n",
        "\n",
        "casesApril = sumCalcOverallDate(cases,\"2020-04-01\",\"2020-04-30\")\n",
        "deathsApril = sumCalcOverallDate(deaths,\"2020-04-01\",\"2020-04-30\")\n",
        "freebedApril = sumCalcOverallDate(freeBeds,\"2020-04-01\",\"2020-04-30\")\n",
        "occbedsApril = sumCalcOverallDate(occBeds,\"2020-04-01\",\"2020-04-30\")\n",
        "\n",
        "casesMay = sumCalcOverallDate(cases,\"2020-05-01\",\"2020-05-31\")\n",
        "deathsMay = sumCalcOverallDate(deaths,\"2020-05-01\",\"2020-05-31\")\n",
        "freebedsMay = sumCalcOverallDate(freeBeds,\"2020-05-01\",\"2020-05-31\")\n",
        "occbedsMay = sumCalcOverallDate(occBeds,\"2020-05-01\",\"2020-05-31\")\n",
        "\n",
        "casesJune = sumCalcOverallDate(cases,\"2020-06-01\",\"2020-06-30\")\n",
        "deathsJune = sumCalcOverallDate(deaths,\"2020-06-01\",\"2020-06-30\")\n",
        "freebedJune = sumCalcOverallDate(freeBeds,\"2020-06-01\",\"2020-06-30\")\n",
        "occbedsJune = sumCalcOverallDate(occBeds,\"2020-06-01\",\"2020-06-30\")\n",
        "\n",
        "casesJuly = sumCalcOverallDate(cases,\"2020-07-01\",\"2020-07-30\")\n",
        "deathsJuly = sumCalcOverallDate(deaths,\"2020-07-01\",\"2020-07-30\")\n",
        "freebedJuly = sumCalcOverallDate(freeBeds,\"2020-07-01\",\"2020-07-30\")\n",
        "occbedsJuly = sumCalcOverallDate(occBeds,\"2020-07-01\",\"2020-07-30\")\n",
        "\n",
        "casesAugust = sumCalcOverallDate(cases,\"2020-08-01\",\"2020-08-31\")\n",
        "deathsAugust = sumCalcOverallDate(deaths,\"2020-08-01\",\"2020-08-31\")\n",
        "freebedAugust = sumCalcOverallDate(freeBeds,\"2020-08-01\",\"2020-08-31\")\n",
        "occbedsAugust = sumCalcOverallDate(occBeds,\"2020-08-01\",\"2020-08-31\")\n",
        "\n",
        "casesSept = sumCalcOverallDate(cases,\"2020-09-01\",\"2020-09-30\")\n",
        "deathsSept = sumCalcOverallDate(deaths,\"2020-09-01\",\"2020-09-30\")\n",
        "freebedSept = sumCalcOverallDate(freeBeds,\"2020-09-01\",\"2020-09-30\")\n",
        "occbedSept = sumCalcOverallDate(occBeds,\"2020-09-01\",\"2020-09-30\")\n",
        "\n",
        "casesOct = sumCalcOverallDate(cases,\"2020-10-1\",\"2020-10-31\")\n",
        "deathsOct = sumCalcOverallDate(deaths,\"2020-10-1\",\"2020-10-31\")\n",
        "freebedOct = sumCalcOverallDate(freeBeds,\"2020-10-1\",\"2020-10-31\")\n",
        "occbedOct = sumCalcOverallDate(occBeds,\"2020-10-1\",\"2020-10-31\")\n",
        "\n",
        "print(casesMarch, casesApril, casesMay, casesJune, casesJuly, casesAugust, casesSept, casesOct)\n",
        "print(deathsMarch, deathsApril, deathsMay, deathsJune, deathsJuly, deathsAugust, deathsSept, deathsOct)\n",
        "print(freebedsMarch, freebedApril, freebedsMay, freebedJune, freebedJuly, freebedAugust, freebedSept, freebedOct)\n",
        "print(occbedsMarch, occbedsApril, occbedsMay, occbedsJune, occbedsJuly, occbedsAugust, occbedSept,occbedOct)"
      ],
      "execution_count": 73,
      "outputs": [
        {
          "output_type": "stream",
          "text": [
            "53864.0 88220.0 19723.0 12858.0 14216.0 34397.0 49108.0 118905.0\n",
            "2355.0 5680.0 676.0 142.0 127.0 109.0 281.0 546.0\n",
            "53092.0 392098.0 527686.0 528373.0 538611.0 565688.0 551654.0 399666.0\n",
            "49813.0 263390.0 304119.0 274298.0 268378.0 239516.0 223255.0 162074.0\n"
          ],
          "name": "stdout"
        }
      ]
    },
    {
      "cell_type": "markdown",
      "metadata": {
        "id": "fyLjcm1gc-7X"
      },
      "source": [
        "# Last Step\n",
        "\n",
        "Finally, the creation of graphs / diagrams for better perception and visualization of the data that will allow us to come up with a conclusion."
      ]
    },
    {
      "cell_type": "code",
      "metadata": {
        "id": "s4KSUiCiZXDy",
        "outputId": "6acbfa57-db1a-472e-bf38-2e8fef3ad6d3",
        "colab": {
          "base_uri": "https://localhost:8080/"
        }
      },
      "source": [
        "import pandas as pd\n",
        "import numpy as np\n",
        "import matplotlib.pyplot as plt\n",
        "%matplotlib inline\n",
        "import seaborn as sns\n",
        "import matplotlib\n",
        "matplotlib.axes.Axes.barh\n",
        "matplotlib.pyplot.barh\n",
        "matplotlib.axes.Axes.text\n",
        "matplotlib.pyplot.text\n",
        "matplotlib.axes.Axes.legend\n",
        "matplotlib.pyplot.legend"
      ],
      "execution_count": 74,
      "outputs": [
        {
          "output_type": "execute_result",
          "data": {
            "text/plain": [
              "<function matplotlib.pyplot.legend>"
            ]
          },
          "metadata": {
            "tags": []
          },
          "execution_count": 74
        }
      ]
    },
    {
      "cell_type": "code",
      "metadata": {
        "id": "ERaayL8OmLlX",
        "outputId": "1b7e213c-67d5-49b9-82f8-f8fb24a5a20e",
        "colab": {
          "base_uri": "https://localhost:8080/",
          "height": 351
        }
      },
      "source": [
        "#Diagrams\n",
        "\n",
        "#Cases and Deathrate for entire Germany\n",
        "\n",
        "casesGermany = sumCalcOverallDate(cases,\"2020-03-20\",\"2020-10-22\")\n",
        "deathsGermany = sumCalcOverallDate(deaths,\"2020-03-20\",\"2020-10-22\")\n",
        "print(deathsGermany/casesGermany)\n",
        "\n",
        "barlabel = \"German\"\n",
        "value = casesGermany\n",
        "\n",
        "fig = plt.figure(figsize=(2,5))\n",
        "\n",
        "plt.bar (barlabel, value, color=\"black\")\n",
        "plt.ylabel(\"Number of Infections\")\n",
        "plt.xlabel(\"Citziens\")\n",
        "\n",
        "plt.show()"
      ],
      "execution_count": 75,
      "outputs": [
        {
          "output_type": "stream",
          "text": [
            "0.025307935310000536\n"
          ],
          "name": "stdout"
        },
        {
          "output_type": "display_data",
          "data": {
            "image/png": "[encoded data removed]",
            "text/plain": [
              "<Figure size 144x360 with 1 Axes>"
            ]
          },
          "metadata": {
            "tags": [],
            "needs_background": "light"
          }
        }
      ]
    },
    {
      "cell_type": "code",
      "metadata": {
        "id": "y0RidXo1Ztm-",
        "outputId": "e19683e3-4dc8-4560-9084-70e753ecc264",
        "colab": {
          "base_uri": "https://localhost:8080/",
          "height": 351
        }
      },
      "source": [
        "#Deaths and Deathrate for entire Germany\n",
        "\n",
        "barlabel = \"German\"\n",
        "value = deathsGermany\n",
        "\n",
        "fig = plt.figure(figsize=(2,5))\n",
        "\n",
        "plt.bar (barlabel, value, color=\"red\")\n",
        "plt.ylabel(\"Number of Deaths\")\n",
        "plt.xlabel(\"Citziens\")\n",
        "\n",
        "plt.show()\n",
        "\n",
        "deathrate = deathsGermany/casesGermany*100\n",
        "print(\"Death rate: \"+str(round(deathrate,2))+\"%\")"
      ],
      "execution_count": 76,
      "outputs": [
        {
          "output_type": "display_data",
          "data": {
            "image/png": "[encoded data removed]",
            "text/plain": [
              "<Figure size 144x360 with 1 Axes>"
            ]
          },
          "metadata": {
            "tags": [],
            "needs_background": "light"
          }
        },
        {
          "output_type": "stream",
          "text": [
            "Death rate: 2.53%\n"
          ],
          "name": "stdout"
        }
      ]
    },
    {
      "cell_type": "code",
      "metadata": {
        "id": "uywAXOEeaF7W",
        "outputId": "036e3197-c202-4360-df4a-63c01ef2cc9c",
        "colab": {
          "base_uri": "https://localhost:8080/",
          "height": 685
        }
      },
      "source": [
        "#Cases, Deaths, Deathrate for Bundesland Nordrhein-Westphalia\n",
        "\n",
        "casesNRW = sumCalcBL(bundeslaender[4],cases)\n",
        "deathsNRW = sumCalcBL(bundeslaender[4],deaths)\n",
        "print(deathsNRW/casesNRW)\n",
        "\n",
        "barlabel = \"German\"\n",
        "value = casesNRW\n",
        "\n",
        "fig = plt.figure(figsize=(2,5))\n",
        "\n",
        "plt.bar (barlabel, value, color=\"black\")\n",
        "plt.ylabel(\"Number of Infections\")\n",
        "plt.xlabel(\"NRW Citziens\")\n",
        "\n",
        "plt.show()\n",
        "\n",
        "barlabel = \"German\"\n",
        "value = deathsNRW\n",
        "\n",
        "fig = plt.figure(figsize=(2,5))\n",
        "\n",
        "plt.bar (barlabel, value, color=\"red\")\n",
        "plt.ylabel(\"Number of Deaths\")\n",
        "plt.xlabel(\"NRW Citziens\")\n",
        "\n",
        "plt.show()\n",
        "\n",
        "deathrate = deathsNRW/casesNRW*100\n",
        "print(\"Death rate: \"+str(round(deathrate,2))+\"%\")"
      ],
      "execution_count": 77,
      "outputs": [
        {
          "output_type": "stream",
          "text": [
            "0.02034970892057616\n"
          ],
          "name": "stdout"
        },
        {
          "output_type": "display_data",
          "data": {
            "image/png": "[encoded data removed]",
            "text/plain": [
              "<Figure size 144x360 with 1 Axes>"
            ]
          },
          "metadata": {
            "tags": [],
            "needs_background": "light"
          }
        },
        {
          "output_type": "display_data",
          "data": {
            "image/png": "[encoded data removed]",
            "text/plain": [
              "<Figure size 144x360 with 1 Axes>"
            ]
          },
          "metadata": {
            "tags": [],
            "needs_background": "light"
          }
        },
        {
          "output_type": "stream",
          "text": [
            "Death rate: 2.03%\n"
          ],
          "name": "stdout"
        }
      ]
    },
    {
      "cell_type": "code",
      "metadata": {
        "id": "BRfkFohSaPo7",
        "outputId": "4fd6b922-958a-422c-a09c-b95d06a6eff5",
        "colab": {
          "base_uri": "https://localhost:8080/",
          "height": 660
        }
      },
      "source": [
        "#7 day diagram for cases in entire Germany\n",
        "lastSevenDays = sumCalcDateRange(2020,10,21,cases)\n",
        "print(lastSevenDays)\n",
        "barlabel = [\"A\",\"A\",\"A\",\"A\",\"A\",\"A\",\"A\",]\n",
        "lastSevenDays= lastSevenDays[::-1]#here \n",
        "value = lastSevenDays\n",
        "\n",
        "fig = plt.figure(figsize=(7,10))\n",
        "\n",
        "plt.bar ([\"Today-6\",\"Today-5\",\"Today-4\",\"Today-3\",\"Today-2\",\"Yesterday\",\"Today\"], height = value, color=\"black\")\n",
        "plt.ylabel(\"Number of Infections\")\n",
        "plt.xlabel(\"Day\")\n",
        "\n",
        "plt.show()"
      ],
      "execution_count": 78,
      "outputs": [
        {
          "output_type": "stream",
          "text": [
            "[datetime.datetime(2020, 10, 21, 0, 0), datetime.datetime(2020, 10, 20, 0, 0), datetime.datetime(2020, 10, 19, 0, 0), datetime.datetime(2020, 10, 18, 0, 0), datetime.datetime(2020, 10, 17, 0, 0), datetime.datetime(2020, 10, 16, 0, 0), datetime.datetime(2020, 10, 15, 0, 0)]\n",
            "[12264.0, 9388.0, 6421.0, 3671.0, 5677.0, 7933.0, 7874.0]\n"
          ],
          "name": "stdout"
        },
        {
          "output_type": "display_data",
          "data": {
            "image/png": "[encoded data removed]",
            "text/plain": [
              "<Figure size 504x720 with 1 Axes>"
            ]
          },
          "metadata": {
            "tags": [],
            "needs_background": "light"
          }
        }
      ]
    },
    {
      "cell_type": "code",
      "metadata": {
        "id": "LcU4jZ2Eajmk",
        "outputId": "de94b2ef-9d2f-4d06-fbd8-feb8698da535",
        "colab": {
          "base_uri": "https://localhost:8080/",
          "height": 694
        }
      },
      "source": [
        "#7 day diagram for deaths in entire Germany\n",
        "\n",
        "lastSevenDays = sumCalcDateRange(2020,10,21,deaths)\n",
        "print(lastSevenDays)\n",
        "barlabel = [\"A\",\"A\",\"A\",\"A\",\"A\",\"A\",\"A\",]\n",
        "lastSevenDays= lastSevenDays[::-1]\n",
        "print(\"Last Seven funktioniert\")\n",
        "print(lastSevenDays)\n",
        "value = lastSevenDays\n",
        "\n",
        "fig = plt.figure(figsize=(7,10))\n",
        "\n",
        "plt.bar ([\"Today-6\",\"Today-5\",\"Today-4\",\"Today-3\",\"Today-2\",\"Yesterday\",\"Today\"], height = value, color=\"red\")\n",
        "plt.ylabel(\"Number of Deaths\")\n",
        "plt.xlabel(\"Day\")\n",
        "\n",
        "plt.show()"
      ],
      "execution_count": 79,
      "outputs": [
        {
          "output_type": "stream",
          "text": [
            "[datetime.datetime(2020, 10, 21, 0, 0), datetime.datetime(2020, 10, 20, 0, 0), datetime.datetime(2020, 10, 19, 0, 0), datetime.datetime(2020, 10, 18, 0, 0), datetime.datetime(2020, 10, 17, 0, 0), datetime.datetime(2020, 10, 16, 0, 0), datetime.datetime(2020, 10, 15, 0, 0)]\n",
            "[32.0, 34.0, 23.0, 14.0, 22.0, 33.0, 40.0]\n",
            "Last Seven funktioniert\n",
            "[40.0, 33.0, 22.0, 14.0, 23.0, 34.0, 32.0]\n"
          ],
          "name": "stdout"
        },
        {
          "output_type": "display_data",
          "data": {
            "image/png": "[encoded data removed]",
            "text/plain": [
              "<Figure size 504x720 with 1 Axes>"
            ]
          },
          "metadata": {
            "tags": [],
            "needs_background": "light"
          }
        }
      ]
    },
    {
      "cell_type": "code",
      "metadata": {
        "id": "Ue6LqQSQaqvu",
        "outputId": "3910a753-2544-4abc-fa49-cf0f35ffb717",
        "colab": {
          "base_uri": "https://localhost:8080/",
          "height": 677
        }
      },
      "source": [
        "# One Examplary Bundesland\n",
        "#7 day diagram for cases in NRW\n",
        "lastSevenDaysBL = sumCalcDateRangeBL(2020,10,20,cases,\"Nordrhein-Westfalen\")\n",
        "print(\"Last Seven funktioniert nicht\")\n",
        "print(lastSevenDaysBL)\n",
        "barlabel = [\"A\",\"A\",\"A\",\"A\",\"A\",\"A\",\"A\",]\n",
        "lastSevenDaysBL = lastSevenDaysBL[::-1]\n",
        "value = lastSevenDaysBL\n",
        "\n",
        "fig = plt.figure(figsize=(7,10))\n",
        "\n",
        "plt.bar ([\"Today-6\",\"Today-5\",\"Today-4\",\"Today-3\",\"Today-2\",\"Yesterday\",\"Today\"], height = value, color=\"black\")\n",
        "plt.ylabel(\"Number of Infections NRW\")\n",
        "plt.xlabel(\"Day\")\n",
        "\n",
        "plt.show()"
      ],
      "execution_count": 80,
      "outputs": [
        {
          "output_type": "stream",
          "text": [
            "[datetime.datetime(2020, 10, 20, 0, 0), datetime.datetime(2020, 10, 19, 0, 0), datetime.datetime(2020, 10, 18, 0, 0), datetime.datetime(2020, 10, 17, 0, 0), datetime.datetime(2020, 10, 16, 0, 0), datetime.datetime(2020, 10, 15, 0, 0), datetime.datetime(2020, 10, 14, 0, 0)]\n",
            "Last Seven funktioniert nicht\n",
            "[2195.0, 1518.0, 1176.0, 1610.0, 2030.0, 2062.0, 1952.0]\n"
          ],
          "name": "stdout"
        },
        {
          "output_type": "display_data",
          "data": {
            "image/png": "[encoded data removed]",
            "text/plain": [
              "<Figure size 504x720 with 1 Axes>"
            ]
          },
          "metadata": {
            "tags": [],
            "needs_background": "light"
          }
        }
      ]
    },
    {
      "cell_type": "code",
      "metadata": {
        "id": "o8CqX1I6au8U",
        "outputId": "78c431d1-e991-41a2-f5fa-f9b39566bdb4",
        "colab": {
          "base_uri": "https://localhost:8080/",
          "height": 660
        }
      },
      "source": [
        "#7 day diagram for deaths in entire Germany\n",
        "lastSevenDaysBL = sumCalcDateRangeBL(2020,10,20,deaths,\"Nordrhein-Westfalen\")\n",
        "print(lastSevenDaysBL)\n",
        "barlabel = [\"A\",\"A\",\"A\",\"A\",\"A\",\"A\",\"A\",]\n",
        "lastSevenDaysBL= lastSevenDaysBL[::-1]\n",
        "value = lastSevenDaysBL\n",
        "\n",
        "fig = plt.figure(figsize=(7,10))\n",
        "\n",
        "plt.bar ([\"Today-6\",\"Today-5\",\"Today-4\",\"Today-3\",\"Today-2\",\"Yesterday\",\"Today\"], height = value, color=\"red\")\n",
        "plt.ylabel(\"Number of Deaths NRW\")\n",
        "plt.xlabel(\"Day\")\n",
        "\n",
        "plt.show()"
      ],
      "execution_count": 81,
      "outputs": [
        {
          "output_type": "stream",
          "text": [
            "[datetime.datetime(2020, 10, 20, 0, 0), datetime.datetime(2020, 10, 19, 0, 0), datetime.datetime(2020, 10, 18, 0, 0), datetime.datetime(2020, 10, 17, 0, 0), datetime.datetime(2020, 10, 16, 0, 0), datetime.datetime(2020, 10, 15, 0, 0), datetime.datetime(2020, 10, 14, 0, 0)]\n",
            "[11.0, 7.0, 5.0, 8.0, 3.0, 11.0, 6.0]\n"
          ],
          "name": "stdout"
        },
        {
          "output_type": "display_data",
          "data": {
            "image/png": "[encoded data removed]",
            "text/plain": [
              "<Figure size 504x720 with 1 Axes>"
            ]
          },
          "metadata": {
            "tags": [],
            "needs_background": "light"
          }
        }
      ]
    },
    {
      "cell_type": "code",
      "metadata": {
        "id": "c89yOund-GPN",
        "outputId": "e53c9e37-284c-42a0-fe65-310257f99f82",
        "colab": {
          "base_uri": "https://localhost:8080/",
          "height": 281
        }
      },
      "source": [
        "N = 8\n",
        "casesmonth = (53863.0, 88212.0, 19721.0, 12854.0, 14208.0, 34383.0, 49101.0, 109711.0)\n",
        "deathsmonth = (2356.0, 5680.0, 674.0, 140.0, 127.0, 109.0, 267.0, 285.0)\n",
        "ind = np.arange(N)    # the x locations for the groups\n",
        "width = 0.35       # the width of the bars: can also be len(x) sequence\n",
        "\n",
        "p1 = plt.bar(ind, casesmonth, width)\n",
        "\n",
        "plt.ylabel('Infections')\n",
        "plt.title('Cases in Germany by month')\n",
        "plt.xticks(ind, ('March','April','May', 'June', 'July', 'Aug', 'Sept', 'October'))\n",
        "plt.yticks()\n",
        "\n",
        "\n",
        "plt.show()"
      ],
      "execution_count": 82,
      "outputs": [
        {
          "output_type": "display_data",
          "data": {
            "image/png": "[encoded data removed]",
            "text/plain": [
              "<Figure size 432x288 with 1 Axes>"
            ]
          },
          "metadata": {
            "tags": [],
            "needs_background": "light"
          }
        }
      ]
    },
    {
      "cell_type": "code",
      "metadata": {
        "id": "dPqc3_rMBoYo",
        "outputId": "82bbfcdb-bbce-44b0-bb4c-ce4af722d49f",
        "colab": {
          "base_uri": "https://localhost:8080/",
          "height": 293
        }
      },
      "source": [
        "# Comparison between Cases, Free Beds and Occupied Beds by month in Germany\n",
        "\n",
        "import numpy as np\n",
        "import matplotlib.pyplot as plt\n",
        "\n",
        "casesmonth = (53863.0, 88212.0, 19721.0, 12854.0, 14208.0, 34383.0, 49101.0, 109711.0)\n",
        "deathsmonth = (2356.0, 5680.0, 674.0, 140.0, 127.0, 109.0, 267.0, 285.0)\n",
        "freeBedmonth = (53092.0, 392098.0, 527686.0, 528373.0, 538611.0, 565688.0, 551654.0, 399666.0)\n",
        "occBedmonth = (49813.0, 263390.0, 304119.0, 274298.0, 268378.0, 239516.0, 223255.0, 162074.0)\n",
        "\n",
        "\n",
        "\n",
        "category_names = ['Free Beds', 'Occupied Beds','Cases']\n",
        "results = {\n",
        "    'March': [53092, 49813, 53863.0],\n",
        "    'April': [392098, 263390, 88212.0],\n",
        "    'May': [527686, 304119, 19721.0],\n",
        "    'June': [528373, 274298, 12854.0],\n",
        "    'July': [538611, 268378, 14208.0],\n",
        "    'August': [565688, 239516, 34383.0],\n",
        "    'September': [551654, 223255, 49101.0],\n",
        "    'October': [399666, 162074, 109711.0]\n",
        "}\n",
        "\n",
        "def analise(results, category_names):\n",
        "   \n",
        "    labels = list(results.keys())\n",
        "    data = np.array(list(results.values()))\n",
        "    data_cum = data.cumsum(axis=1)\n",
        "    category_colors = plt.get_cmap('Reds')(np.linspace(0.15, 0.85, data.shape[1]))\n",
        "\n",
        "    fig, ax = plt.subplots(figsize=(29, 6))\n",
        "    ax.invert_yaxis()\n",
        "    ax.xaxis.set_visible(False)\n",
        "    ax.set_xlim(0, np.sum(data, axis=1).max())\n",
        "\n",
        "    for i, (colname, color) in enumerate(zip(category_names, category_colors)):\n",
        "        widths = data[:, i]\n",
        "        starts = data_cum[:, i] - widths\n",
        "        ax.barh(labels, widths, left=starts, height=0.5,\n",
        "                label=colname, color=color)\n",
        "        xcenters = starts + widths / 2\n",
        "\n",
        "        b, g, r, _ = color\n",
        "        text_color = 'black'\n",
        "        for y, (x, c) in enumerate(zip(xcenters, widths)):\n",
        "            ax.text(x, y, str(int(c)), ha='center', va='center',\n",
        "                    color=text_color)\n",
        "    ax.legend(ncol=len(category_names), bbox_to_anchor=(0, 1),\n",
        "              loc='lower left', fontsize='x-large')\n",
        "\n",
        "    return fig, ax\n",
        "\n",
        "analise(results, category_names)\n",
        "plt.show()"
      ],
      "execution_count": 83,
      "outputs": [
        {
          "output_type": "display_data",
          "data": {
            "image/png": "[encoded data removed]",
            "text/plain": [
              "<Figure size 2088x432 with 1 Axes>"
            ]
          },
          "metadata": {
            "tags": [],
            "needs_background": "light"
          }
        }
      ]
    },
    {
      "cell_type": "markdown",
      "metadata": {
        "id": "BHJPrDTkh24N"
      },
      "source": [
        "# Conclusions\n",
        "\n",
        "With this script it was possible to get a quick overview of the current Corona developments in the entire country and the \"Bundesländer\". The user can use the help functions to get the results he is intrested in (e.g. per \"Bundesland\" or time period).\n",
        "\n",
        "Another purpose is that citizens can educate themselves and come up with their own conclusions.\n",
        "\n",
        "We collect data from:\n",
        "\n",
        "- **ArcGIS Online**\n",
        "\n",
        "https://www.arcgis.com/home/item.html?id=f10774f1c63e40168479a1feb6c7ca74 \n",
        "- **Intensivregister**\n",
        "\n",
        "https://www.intensivregister.de/#/intensivregister?tab=laendertabelle \n",
        "\n",
        "\n",
        "Who participated on this project?\n",
        "*   **Daniel Moss**\n",
        "*   **Susana Pinto**\n",
        "*   **Cedric Pumpe**"
      ]
    }
  ]
}