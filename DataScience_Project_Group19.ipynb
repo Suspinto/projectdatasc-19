{
  "nbformat": 4,
  "nbformat_minor": 0,
  "metadata": {
    "colab": {
      "name": "DataScience_Project_Group19.ipynb",
      "provenance": [],
      "collapsed_sections": [],
      "include_colab_link": true
    },
    "kernelspec": {
      "name": "python3",
      "display_name": "Python 3"
    }
  },
  "cells": [
    {
      "cell_type": "markdown",
      "metadata": {
        "id": "view-in-github",
        "colab_type": "text"
      },
      "source": [
        "<a href=\"https://colab.research.google.com/github/Suspinto/projectdatasc-19/blob/main/DataScience_Project_Group19.ipynb\" target=\"_parent\"><img src=\"https://colab.research.google.com/assets/colab-badge.svg\" alt=\"Open In Colab\"/></a>"
      ]
    },
    {
      "cell_type": "markdown",
      "metadata": {
        "id": "0vkTXuokBAa_"
      },
      "source": [
        "\n",
        "# **Analysis of Covid-19 in Germany**\n",
        "\n",
        "In this project we present the evolution of cases from day zero in Germany, as well as deaths, the number of free and occupied beds by day.\n",
        "\n",
        "Our main objective of this analysis, is to allow the user a more simplified way to access the desired results - data by month, by State and totals.\n",
        "\n",
        "At the beginning, we imported data from trusted locations and started analise what data is necessary for this study.\n",
        "\n",
        "\n",
        "\n"
      ]
    },
    {
      "cell_type": "code",
      "metadata": {
        "id": "OEdejhPiX8Xh",
        "outputId": "51c95c3a-0ccf-4b72-81fd-62d4330169a3",
        "colab": {
          "base_uri": "https://localhost:8080/"
        }
      },
      "source": [
        "# Imports\n",
        "import pandas as pd\n",
        "import numpy as np\n",
        "import datetime\n",
        "from datetime import timedelta\n",
        "from google.colab import drive\n",
        "drive.mount('/content/drive')"
      ],
      "execution_count": 10,
      "outputs": [
        {
          "output_type": "stream",
          "text": [
            "Drive already mounted at /content/drive; to attempt to forcibly remount, call drive.mount(\"/content/drive\", force_remount=True).\n"
          ],
          "name": "stdout"
        }
      ]
    },
    {
      "cell_type": "code",
      "metadata": {
        "id": "FCXNuNbLeEss"
      },
      "source": [
        "#Read hospitals file for all bundesländer\n",
        "nrw = pd.read_csv(\"/content/drive/My Drive/TechlabsProjectGroup19/NRW.csv\")\n",
        "nrw.insert(0,\"Bundesland\",\"Nordrhein-Westfalen\")\n",
        "bw = pd.read_csv(\"/content/drive/My Drive/TechlabsProjectGroup19/badenWuerttemberg.csv\")\n",
        "bw.insert(0,\"Bundesland\",\"Baden-Würtemberg\")\n",
        "bayern = pd.read_csv(\"/content/drive/My Drive/TechlabsProjectGroup19/bayern.csv\")\n",
        "bayern.insert(0,\"Bundesland\",\"Bayern\")\n",
        "berlin = pd.read_csv(\"/content/drive/My Drive/TechlabsProjectGroup19/berlin.csv\")\n",
        "berlin.insert(0,\"Bundesland\",\"Berlin\")\n",
        "brandenburg = pd.read_csv(\"/content/drive/My Drive/TechlabsProjectGroup19/brandenburg.csv\")\n",
        "brandenburg.insert(0,\"Bundesland\",\"Brandenburg\")\n",
        "bremen = pd.read_csv(\"/content/drive/My Drive/TechlabsProjectGroup19/bremen.csv\")\n",
        "bremen.insert(0,\"Bundesland\",\"Bremen\")\n",
        "hamburg = pd.read_csv(\"/content/drive/My Drive/TechlabsProjectGroup19/hamburg.csv\")\n",
        "hamburg.insert(0,\"Bundesland\",\"Hamburg\")\n",
        "hessen = pd.read_csv(\"/content/drive/My Drive/TechlabsProjectGroup19/hessen.csv\")\n",
        "hessen.insert(0,\"Bundesland\",\"Hessen\")\n",
        "mvp = pd.read_csv(\"/content/drive/My Drive/TechlabsProjectGroup19/meckpom.csv\")\n",
        "mvp.insert(0,\"Bundesland\",\"Mecklenburg-Vorpommern\")\n",
        "ns = pd.read_csv(\"/content/drive/My Drive/TechlabsProjectGroup19/niedersachsen.csv\")\n",
        "ns.insert(0,\"Bundesland\",\"Niedersachsen\")\n",
        "rp = pd.read_csv(\"/content/drive/My Drive/TechlabsProjectGroup19/rheinlandPfalz.csv\")\n",
        "rp.insert(0,\"Bundesland\",\"Rheinland Pfalz\")\n",
        "saarland = pd.read_csv(\"/content/drive/My Drive/TechlabsProjectGroup19/saarland.csv\")\n",
        "saarland.insert(0,\"Bundesland\",\"Saarland\")\n",
        "sachsen = pd.read_csv(\"/content/drive/My Drive/TechlabsProjectGroup19/sachsen.csv\")\n",
        "sachsen.insert(0,\"Bundesland\",\"Sachsen\")\n",
        "sachsenanhalt = pd.read_csv(\"/content/drive/My Drive/TechlabsProjectGroup19/sachsenAnhalt.csv\")\n",
        "sachsenanhalt.insert(0,\"Bundesland\",\"Sachsen-Anhalt\")\n",
        "sh = pd.read_csv(\"/content/drive/My Drive/TechlabsProjectGroup19/schleswigHolstein.csv\")\n",
        "sh.insert(0,\"Bundesland\",\"Schleswig-Holstein\")\n",
        "thueringen = pd.read_csv(\"/content/drive/My Drive/TechlabsProjectGroup19/thueringen.csv\")\n",
        "thueringen.insert(0,\"Bundesland\",\"Thüringen\")\n",
        "\n",
        "# Merge into one dataframe \"hospitalsmerged\"\n",
        "hospitalsMerged =pd.concat([nrw,bw,bayern,berlin,brandenburg,bremen,hamburg,hessen,mvp,ns,rp,saarland,sachsen,sachsenanhalt,sh,thueringen])\n",
        "\n",
        "# Read corona cases and deaths for all German \"kreise\"\n",
        "casesAndDeaths = pd.read_csv(\"/content/drive/My Drive/TechlabsProjectGroup19/RKI_COVID19.csv\")"
      ],
      "execution_count": 11,
      "outputs": []
    },
    {
      "cell_type": "markdown",
      "metadata": {
        "id": "IHW7h_HxaJu3"
      },
      "source": [
        "# 2º Step\n",
        "\n",
        "In this phase, we perform the cleaning of the data and its preparation, for possible manipulation and creation of diagrams without the occurrence of concordance errors.\n",
        "\n",
        "*Converting the data type to the correct one (example: data that indicates dates) is essential to avoid tracebacks throughout the creation of the script. Dropping the redundant columns to avoid unnecessary excess of information.*"
      ]
    },
    {
      "cell_type": "code",
      "metadata": {
        "id": "4yOn7VMCX5Rj"
      },
      "source": [
        "#Drop redundant columns\n",
        "cols = [0,1,3,9,10,13,14,15,16,17]\n",
        "casesAndDeaths=casesAndDeaths.drop(casesAndDeaths.columns[cols], axis=1)\n",
        "casesAndDeaths.head(50)\n",
        "\n",
        "# Change \"meldedatum\" from object to datetime\n",
        "casesAndDeaths.dtypes\n",
        "casesAndDeaths[\"Meldedatum\"]= pd.to_datetime(casesAndDeaths[\"Meldedatum\"],format='%Y/%m/%d %H:%M:%S')\n",
        "casesAndDeaths.dtypes\n",
        "\n",
        "#sort cases death and sex by bundesland and date \n",
        "casesAndDeaths.sort_values(by=['Bundesland', 'Meldedatum'], inplace=True)\n",
        "casesAndDeaths.head(50)\n",
        "\n",
        "# Get cases and deaths for each bundesland on each day\n",
        "bundeslaender = [\"Schleswig-Holstein\",\"Hamburg\",\"Niedersachsen\",\"Bremen\",\"Nordrhein-Westfalen\",\"Hessen\",\"Rheinland-Pfalz\",\"Baden-Württemberg\",\"Bayern\",\"Saarland\",\"Berlin\",\"Brandenburg\",\"Mecklenburg-Vorpommern\",\"Sachsen\",\"Sachsen-Anhalt\",\"Thüringen\"]\n",
        "yearindex = pd.date_range(start=\"2020-01-01\",end=\"2020-12-31\",freq='D')\n",
        "merged = pd.DataFrame(index=yearindex)\n",
        "for bundesland in bundeslaender:\n",
        "  casesAndDeathsBundesland = casesAndDeaths[casesAndDeaths['Bundesland']== bundesland]\n",
        "  redundantcolumns = [1,6,7]\n",
        "  casesAndDeathsBundesland = casesAndDeathsBundesland.drop(casesAndDeathsBundesland.columns[redundantcolumns], axis=1)\n",
        "  casesAndDeathsBundesland=casesAndDeathsBundesland[['Bundesland','AnzahlFall', 'AnzahlTodesfall', 'Meldedatum']].groupby('Meldedatum').sum()\n",
        "  casesAndDeathsBundesland.insert(0,bundesland,bundesland)\n",
        "\n",
        "# Get free and available beds + emergency reserve and deaths for each bundesland on each day\n",
        "  holder = hospitalsMerged[hospitalsMerged['Bundesland']== bundesland]\n",
        "  holder = holder.set_index(\"date\")\n",
        "  holder = holder.drop(columns=[\"Bundesland\"])\n",
        "\n",
        "# Merge cases, deaths, available and free beds + emergency capacity \n",
        "  casesAndDeathsBundesland = pd.concat([casesAndDeathsBundesland,holder],axis=1)\n",
        "\n",
        "  if (len(merged)==0):\n",
        "    merged = casesAndDeathsBundesland\n",
        "  else:\n",
        "    merged = pd.concat([merged,casesAndDeathsBundesland],axis=1)\n",
        "\n",
        "#Fill empty cells with 0/name of bundesland\n",
        "for column in merged.columns:\n",
        "  if (column == \"AnzahlFall\" or column==\"AnzahlTodesfall\") :\n",
        "      merged[column] = merged[column].replace(r'\\s+', np.nan, regex=True)\n",
        "      merged[column] = merged[column].fillna(0)\n",
        "  elif (column in bundeslaender):\n",
        "      merged[column]= column\n",
        "\n",
        "#Select relevant dates\n",
        "today = \"22.10.2020\"\n",
        "merged = merged.loc[\"20.03.2020  00:00:00\":today]\n",
        "merged.to_excel(\"merged.xlsx\")"
      ],
      "execution_count": null,
      "outputs": []
    },
    {
      "cell_type": "markdown",
      "metadata": {
        "id": "1xdwVAf1bnrI"
      },
      "source": [
        "#**Intermediate step**\n",
        "\n",
        "\n",
        "In this step, we created some functions that contemplate the necessary conditions for our future diagrams / graphs.\n"
      ]
    },
    {
      "cell_type": "code",
      "metadata": {
        "id": "NZSqlkeW-zOl"
      },
      "source": [
        "# Help functions to select data for diagrams\n",
        "\n",
        "cases = 1\n",
        "deaths = 2\n",
        "freeBeds = 3\n",
        "occBeds = 4\n",
        "reserved = 5\n",
        "bundeslaender = [\"Schleswig-Holstein\",\"Hamburg\",\"Niedersachsen\",\"Bremen\",\"Nordrhein-Westfalen\",\"Hessen\",\"Rheinland-Pfalz\",\"Baden-Württemberg\",\"Bayern\",\"Saarland\",\"Berlin\",\"Brandenburg\",\"Mecklenburg-Vorpommern\",\"Sachsen\",\"Sachsen-Anhalt\",\"Thüringen\"]\n",
        "\n",
        "# Cases and deaths overall between 20.03.2020 and today (22.10.2020)\n",
        "\n",
        "def sumCalcOverall(statistic): # where statistic is either cases, deaths, freeBeds, occBeds or reserved \n",
        "  sum = 0\n",
        "  for bundesland in bundeslaender:\n",
        "    ind = merged.columns.get_loc(bundesland)\n",
        "    loc = ind + statistic\n",
        "    sum = sum + merged.iloc[:,loc].sum()\n",
        "  return sum\n",
        "\n",
        "casesGermany = sumCalcOverall(cases)\n",
        "deathsGermany = sumCalcOverall(deaths)\n",
        "\n",
        "# Cases and deaths overall for a certain date\n",
        "def sumCalcOverallDate(statistic, startdate, enddate): # where statistic is either cases, deaths, freeBeds, occBeds or reserved \n",
        "  sum = 0\n",
        "  selection = merged.loc[startdate:enddate]\n",
        "  selection.to_excel(\"selection.xlsx\")\n",
        "  for bundesland in bundeslaender:\n",
        "    ind = selection.columns.get_loc(bundesland)\n",
        "    loc = ind + statistic\n",
        "    sum = sum + selection.iloc[:,loc].sum()\n",
        "  return sum\n",
        "\n",
        "# Cases and deaths per bundesland between 20.03.2020 and today (22.10.2020)\n",
        "\n",
        "def sumCalcBL(bundesland,statistic): # where statistic is either cases, deaths, freeBeds, occBeds or reserved ; bundesland is either \"Schleswig-Holstein\",\"Hamburg\",\"Niedersachsen\",\"Bremen\",\"Nordrhein-Westfalen\",\"Hessen\",\"Rheinland-Pfalz\",\"Baden-Württemberg\",\"Bayern\",\"Saarland\",\"Berlin\",\"Brandenburg\",\"Mecklenburg-Vorpommern\",\"Sachsen\",\"Sachsen-Anhalt\",\"Thüringen\"\n",
        "  ind = merged.columns.get_loc(bundesland)\n",
        "  loc = ind + statistic\n",
        "  return merged.iloc[:,loc].sum()\n",
        " \n",
        "casesSchleswig = sumCalcBL(bundeslaender[0],cases)\n",
        "deathsSchleswig = sumCalcBL(bundeslaender[0],deaths)\n",
        "casesHamburg = sumCalcBL(bundeslaender[1],cases)\n",
        "deathsHamburg = sumCalcBL(bundeslaender[1],deaths)\n",
        "casesNiedersachsen = sumCalcBL(bundeslaender[2],cases)\n",
        "deathsNiedersachsen = sumCalcBL(bundeslaender[2],deaths)\n",
        "casesBremen = sumCalcBL(bundeslaender[3],cases)\n",
        "deathsBremen =sumCalcBL(bundeslaender[3],deaths)\n",
        "casesNordrhein = sumCalcBL(bundeslaender[4],cases)\n",
        "deathsNordrhein =sumCalcBL(bundeslaender[4],deaths)\n",
        "casesHessen = sumCalcBL(bundeslaender[5],cases)\n",
        "deathsHessen = sumCalcBL(bundeslaender[5],deaths)\n",
        "casesRheinland = sumCalcBL(bundeslaender[6],cases)\n",
        "deathsRheinland = sumCalcBL(bundeslaender[6],deaths)\n",
        "casesBaden = sumCalcBL(bundeslaender[7],cases)\n",
        "deathsBaden = sumCalcBL(bundeslaender[7],deaths)\n",
        "casesBayern = sumCalcBL(bundeslaender[8],cases)\n",
        "deathsBayern = sumCalcBL(bundeslaender[8],deaths)\n",
        "casesSaarland = sumCalcBL(bundeslaender[9],cases)\n",
        "deathsSaarland = sumCalcBL(bundeslaender[9],deaths)\n",
        "casesBerlin = sumCalcBL(bundeslaender[10],cases)\n",
        "deathsBerlin = sumCalcBL(bundeslaender[10],deaths)\n",
        "casesBrandenburg = sumCalcBL(bundeslaender[11],cases)\n",
        "deathsBrandenburg = sumCalcBL(bundeslaender[11],deaths)\n",
        "casesMecklenburg = sumCalcBL(bundeslaender[12],cases)\n",
        "deathsMecklenburg = sumCalcBL(bundeslaender[12],deaths)\n",
        "casesSachsen = sumCalcBL(bundeslaender[13],cases)\n",
        "deathsSachsen = sumCalcBL(bundeslaender[13],deaths)\n",
        "casesAnhalt = sumCalcBL(bundeslaender[14],cases)\n",
        "deathsAnhalt = sumCalcBL(bundeslaender[14],deaths)\n",
        "casesThüringen = sumCalcBL(bundeslaender[15],cases)\n",
        "deathsThüringen = sumCalcBL(bundeslaender[15],deaths)\n",
        "\n",
        "# Select all cases and deaths in Germany based on a certain day\n",
        "def sumCalcDate(date, statistic): # where statistic is either cases, deaths, freeBeds, occBeds or reserved ; date format Y-M-D\n",
        "  sum = 0\n",
        "  selection = merged.loc[date:date]\n",
        "  for bundesland in bundeslaender:\n",
        "    ind = selection.columns.get_loc(bundesland)\n",
        "    loc = ind + statistic\n",
        "    sum = sum + selection.iloc[:,loc].sum()\n",
        "  return sum\n",
        "\n",
        "print (sumCalcDate(\"20.10.2020\",deaths))\n",
        "\n",
        "# Select all cases and deaths per bundesland based on a certain day\n",
        "def sumCalcBundeslandDate(date,bundesland,statistic): # where statistic is either cases, deaths, freeBeds, occBeds or reserved ; date format Y-M-D\n",
        "  sum = 0\n",
        "  selection = merged.loc[date:date]\n",
        "  ind = selection.columns.get_loc(bundesland)\n",
        "  loc = ind + statistic\n",
        "  return selection.iloc[:,loc].sum()\n",
        "\n",
        "print (sumCalcBundeslandDate(\"19.10.2020\",\"Schleswig-Holstein\",deaths))\n"
      ],
      "execution_count": null,
      "outputs": []
    },
    {
      "cell_type": "code",
      "metadata": {
        "id": "Z5Rat43rc3G5"
      },
      "source": [
        "#Get last seven days in array tage\n",
        "def calcLastSevenDays(year,month,day):\n",
        "  today = datetime.datetime(year,month,day)\n",
        "  lastweek = today - timedelta(days=7)\n",
        "\n",
        "  days = [\"day1\",\"day2\",\"day3\",\"day4\",\"day5\",\"day6\",\"day7\"]\n",
        "  tage = []\n",
        "  i=0\n",
        "  for day in days:\n",
        "    day = today - timedelta(days=i)\n",
        "    i =i+1\n",
        "    tage.append(day)\n",
        "  return tage"
      ],
      "execution_count": 14,
      "outputs": []
    },
    {
      "cell_type": "code",
      "metadata": {
        "id": "B-i4LSJ7cuxe",
        "outputId": "bbefe8bb-582b-41d8-d268-242ec36227eb",
        "colab": {
          "base_uri": "https://localhost:8080/"
        }
      },
      "source": [
        "# Get statistics for each day on a certain daterange\n",
        "def sumCalcDateRange(year,month,day,statistic): # where statistic is either cases, deaths, freeBeds, occBeds or reserved ; date format Y-M-D\n",
        "  statisticPerDay =[]\n",
        "  datelist = calcLastSevenDays(year,month,day)\n",
        "  print(datelist)\n",
        "  for day in datelist:\n",
        "    sum = 0\n",
        "    selection = merged.loc[day:day]\n",
        "    for bundesland in bundeslaender:\n",
        "      ind = selection.columns.get_loc(bundesland)\n",
        "      loc = ind + statistic\n",
        "      sum = sum + selection.iloc[:,loc].sum()\n",
        "    statisticPerDay.append(sum)\n",
        "  return statisticPerDay\n",
        "\n",
        "def sumCalcDateRangeBL(year,month,day,statistic,BL): # where statistic is either cases, deaths, freeBeds, occBeds or reserved ; date format Y-M-D\n",
        "  statisticPerDay =[]\n",
        "  datelist = calcLastSevenDays(year,month,day)\n",
        "  print(datelist)\n",
        "  for day in datelist:\n",
        "    sum = 0\n",
        "    selection = merged.loc[day:day]\n",
        "    for bundesland in bundeslaender:\n",
        "      if (bundesland == BL):\n",
        "        ind = selection.columns.get_loc(bundesland)\n",
        "        loc = ind + statistic\n",
        "        sum = sum + selection.iloc[:,loc].sum()\n",
        "        statisticPerDay.append(sum)\n",
        "  return statisticPerDay\n",
        "\n",
        "print(sumCalcDateRangeBL(2020,10,20,cases,\"Nordrhein-Westfalen\"))"
      ],
      "execution_count": 15,
      "outputs": [
        {
          "output_type": "stream",
          "text": [
            "[datetime.datetime(2020, 10, 20, 0, 0), datetime.datetime(2020, 10, 19, 0, 0), datetime.datetime(2020, 10, 18, 0, 0), datetime.datetime(2020, 10, 17, 0, 0), datetime.datetime(2020, 10, 16, 0, 0), datetime.datetime(2020, 10, 15, 0, 0), datetime.datetime(2020, 10, 14, 0, 0)]\n",
            "[2190.0, 1521.0, 1177.0, 1609.0, 2026.0, 2067.0, 1955.0]\n"
          ],
          "name": "stdout"
        }
      ]
    },
    {
      "cell_type": "code",
      "metadata": {
        "id": "d6KO30yWhwr4"
      },
      "source": [
        "#Helping functions\n",
        "\n",
        "casesMarch = sumCalcOverallDate(cases,\"2020-03-20\",\"2020-03-31\")\n",
        "deathsMarch = sumCalcOverallDate(deaths,\"2020-03-20\",\"2020-03-31\")\n",
        "freebedsMarch = sumCalcOverallDate(freeBeds,\"2020-03-20\",\"2020-03-31\")\n",
        "occbedsMarch = sumCalcOverallDate(occBeds,\"2020-03-20\",\"2020-03-31\")\n",
        "\n",
        "casesApril = sumCalcOverallDate(cases,\"2020-04-01\",\"2020-04-30\")\n",
        "deathsApril = sumCalcOverallDate(deaths,\"2020-04-01\",\"2020-04-30\")\n",
        "freebedApril = sumCalcOverallDate(freeBeds,\"2020-04-01\",\"2020-04-30\")\n",
        "occbedsApril = sumCalcOverallDate(occBeds,\"2020-04-01\",\"2020-04-30\")\n",
        "\n",
        "casesMay = sumCalcOverallDate(cases,\"2020-05-01\",\"2020-05-31\")\n",
        "deathsMay = sumCalcOverallDate(deaths,\"2020-05-01\",\"2020-05-31\")\n",
        "freebedsMay = sumCalcOverallDate(freeBeds,\"2020-05-01\",\"2020-05-31\")\n",
        "occbedsMay = sumCalcOverallDate(occBeds,\"2020-05-01\",\"2020-05-31\")\n",
        "\n",
        "casesJune = sumCalcOverallDate(cases,\"2020-06-01\",\"2020-06-30\")\n",
        "deathsJune = sumCalcOverallDate(deaths,\"2020-06-01\",\"2020-06-30\")\n",
        "freebedJune = sumCalcOverallDate(freeBeds,\"2020-06-01\",\"2020-06-30\")\n",
        "occbedsJune = sumCalcOverallDate(occBeds,\"2020-06-01\",\"2020-06-30\")\n",
        "\n",
        "casesJuly = sumCalcOverallDate(cases,\"2020-07-01\",\"2020-07-30\")\n",
        "deathsJuly = sumCalcOverallDate(deaths,\"2020-07-01\",\"2020-07-30\")\n",
        "freebedJuly = sumCalcOverallDate(freeBeds,\"2020-07-01\",\"2020-07-30\")\n",
        "occbedsJuly = sumCalcOverallDate(occBeds,\"2020-07-01\",\"2020-07-30\")\n",
        "\n",
        "casesAugust = sumCalcOverallDate(cases,\"2020-08-01\",\"2020-08-31\")\n",
        "deathsAugust = sumCalcOverallDate(deaths,\"2020-08-01\",\"2020-08-31\")\n",
        "freebedAugust = sumCalcOverallDate(freeBeds,\"2020-08-01\",\"2020-08-31\")\n",
        "occbedsAugust = sumCalcOverallDate(occBeds,\"2020-08-01\",\"2020-08-31\")\n",
        "\n",
        "casesSept = sumCalcOverallDate(cases,\"2020-09-01\",\"2020-09-30\")\n",
        "deathsSept = sumCalcOverallDate(deaths,\"2020-09-01\",\"2020-09-30\")\n",
        "freebedSept = sumCalcOverallDate(freeBeds,\"2020-09-01\",\"2020-09-30\")\n",
        "occbedSept = sumCalcOverallDate(occBeds,\"2020-09-01\",\"2020-09-30\")\n",
        "\n",
        "casesOct = sumCalcOverallDate(cases,\"2020-10-1\",\"2020-10-31\")\n",
        "deathsOct = sumCalcOverallDate(deaths,\"2020-10-1\",\"2020-10-31\")\n",
        "freebedOct = sumCalcOverallDate(freeBeds,\"2020-10-1\",\"2020-10-31\")\n",
        "occbedOct = sumCalcOverallDate(occBeds,\"2020-10-1\",\"2020-10-31\")\n",
        "\n",
        "print(casesMarch, casesApril, casesMay, casesJune, casesJuly, casesAugust, casesSept, casesOct)\n",
        "print(deathsMarch, deathsApril, deathsMay, deathsJune, deathsJuly, deathsAugust, deathsSept, deathsOct)\n",
        "print(freebedsMarch, freebedApril, freebedsMay, freebedJune, freebedJuly, freebedAugust, freebedSept, freebedOct)\n",
        "print(occbedsMarch, occbedsApril, occbedsMay, occbedsJune, occbedsJuly, occbedsAugust, occbedSept,occbedOct)"
      ],
      "execution_count": null,
      "outputs": []
    },
    {
      "cell_type": "markdown",
      "metadata": {
        "id": "fyLjcm1gc-7X"
      },
      "source": [
        "# Last Step\n",
        "\n",
        "Finally, the creation of graphs / diagrams for better perception and visualization of the data that will lead us to a conclusion."
      ]
    },
    {
      "cell_type": "code",
      "metadata": {
        "id": "ERaayL8OmLlX",
        "outputId": "8aef2e5c-fcd6-453d-d353-d55a3d69eeab",
        "colab": {
          "base_uri": "https://localhost:8080/"
        }
      },
      "source": [
        "#Diagrams\n",
        "import pandas as pd\n",
        "import numpy as np\n",
        "import matplotlib.pyplot as plt\n",
        "%matplotlib inline\n",
        "import seaborn as sns\n",
        "import matplotlib\n",
        "matplotlib.axes.Axes.barh\n",
        "matplotlib.pyplot.barh\n",
        "matplotlib.axes.Axes.text\n",
        "matplotlib.pyplot.text\n",
        "matplotlib.axes.Axes.legend\n",
        "matplotlib.pyplot.legend"
      ],
      "execution_count": 20,
      "outputs": [
        {
          "output_type": "execute_result",
          "data": {
            "text/plain": [
              "<function matplotlib.pyplot.legend>"
            ]
          },
          "metadata": {
            "tags": []
          },
          "execution_count": 20
        }
      ]
    },
    {
      "cell_type": "code",
      "metadata": {
        "id": "W4GRt77FdcHv"
      },
      "source": [
        "#Cases, Deaths, Deathrate for entire Germany\n",
        "\n",
        "casesGermany = sumCalcOverallDate(cases,\"2020-03-20\",\"2020-10-22\")\n",
        "deathsGermany = sumCalcOverallDate(deaths,\"2020-03-20\",\"2020-10-22\")\n",
        "print(deathsGermany/casesGermany)\n",
        "\n",
        "barlabel = \"German\"\n",
        "value = casesGermany\n",
        "\n",
        "fig = plt.figure(figsize=(2,5))\n",
        "\n",
        "plt.bar (barlabel, value, color=\"black\")\n",
        "plt.ylabel(\"Number of Infections\")\n",
        "plt.xlabel(\"Citziens\")\n",
        "\n",
        "plt.show()\n",
        "\n",
        "barlabel = \"German\"\n",
        "value = deathsGermany\n",
        "\n",
        "fig = plt.figure(figsize=(2,5))\n",
        "\n",
        "plt.bar (barlabel, value, color=\"red\")\n",
        "plt.ylabel(\"Number of Deaths\")\n",
        "plt.xlabel(\"Citziens\")\n",
        "\n",
        "plt.show()\n",
        "\n",
        "deathrate = deathsGermany/casesGermany*100\n",
        "print(\"Death rate: \"+str(round(deathrate,2))+\"%\")"
      ],
      "execution_count": null,
      "outputs": []
    },
    {
      "cell_type": "code",
      "metadata": {
        "id": "P87t2Ldodb06"
      },
      "source": [
        "#Cases, Deaths, Deathrate for Bundesland Nordrhein-Westphalia\n",
        "\n",
        "casesNRW = sumCalcBL(bundeslaender[4],cases)\n",
        "deathsNRW = sumCalcBL(bundeslaender[4],deaths)\n",
        "print(deathsNRW/casesNRW)\n",
        "\n",
        "barlabel = \"German\"\n",
        "value = casesNRW\n",
        "\n",
        "fig = plt.figure(figsize=(2,5))\n",
        "\n",
        "plt.bar (barlabel, value, color=\"black\")\n",
        "plt.ylabel(\"Number of Infections\")\n",
        "plt.xlabel(\"NRW Citziens\")\n",
        "\n",
        "plt.show()\n",
        "\n",
        "barlabel = \"German\"\n",
        "value = deathsNRW\n",
        "\n",
        "fig = plt.figure(figsize=(2,5))\n",
        "\n",
        "plt.bar (barlabel, value, color=\"red\")\n",
        "plt.ylabel(\"Number of Deaths\")\n",
        "plt.xlabel(\"NRW Citziens\")\n",
        "\n",
        "plt.show()\n",
        "\n",
        "deathrate = deathsNRW/casesNRW*100\n",
        "print(\"Death rate: \"+str(round(deathrate,2))+\"%\")"
      ],
      "execution_count": null,
      "outputs": []
    },
    {
      "cell_type": "code",
      "metadata": {
        "id": "_C9M-AIFduNX"
      },
      "source": [
        "#7 day diagram for cases in entire Germany\n",
        "\n",
        "lastSevenDays = sumCalcDateRange(2020,10,21,cases)\n",
        "print(lastSevenDays)\n",
        "barlabel = [\"A\",\"A\",\"A\",\"A\",\"A\",\"A\",\"A\",]\n",
        "lastSevenDays= lastSevenDays[::-1]#here \n",
        "value = lastSevenDays\n",
        "\n",
        "fig = plt.figure(figsize=(7,10))\n",
        "\n",
        "plt.bar ([\"Today-6\",\"Today-5\",\"Today-4\",\"Today-3\",\"Today-2\",\"Yesterday\",\"Today\"], height = value, color=\"black\")\n",
        "plt.ylabel(\"Number of Infections\")\n",
        "plt.xlabel(\"Day\")\n",
        "\n",
        "plt.show()"
      ],
      "execution_count": null,
      "outputs": []
    },
    {
      "cell_type": "code",
      "metadata": {
        "id": "R5NHgbwuduAv"
      },
      "source": [
        "#7 day diagram for deaths in entire Germany\n",
        "\n",
        "lastSevenDays = sumCalcDateRange(2020,10,21,deaths)\n",
        "print(lastSevenDays)\n",
        "barlabel = [\"A\",\"A\",\"A\",\"A\",\"A\",\"A\",\"A\",]\n",
        "lastSevenDays= lastSevenDays[::-1]\n",
        "print(\"Last Seven funktioniert\")\n",
        "print(lastSevenDays)\n",
        "value = lastSevenDays\n",
        "\n",
        "fig = plt.figure(figsize=(7,10))\n",
        "\n",
        "plt.bar ([\"Today-6\",\"Today-5\",\"Today-4\",\"Today-3\",\"Today-2\",\"Yesterday\",\"Today\"], height = value, color=\"red\")\n",
        "plt.ylabel(\"Number of Deaths\")\n",
        "plt.xlabel(\"Day\")\n",
        "\n",
        "plt.show()"
      ],
      "execution_count": null,
      "outputs": []
    },
    {
      "cell_type": "code",
      "metadata": {
        "id": "EjLyDhcxd5Mw"
      },
      "source": [
        "#7 day diagram for cases in NRW\n",
        "\n",
        "lastSevenDaysBL = sumCalcDateRangeBL(2020,10,20,cases,\"Nordrhein-Westfalen\")\n",
        "print(\"Last Seven funktioniert nicht\")\n",
        "print(lastSevenDaysBL)\n",
        "barlabel = [\"A\",\"A\",\"A\",\"A\",\"A\",\"A\",\"A\",]\n",
        "lastSevenDaysBL = lastSevenDaysBL[::-1]\n",
        "value = lastSevenDaysBL\n",
        "\n",
        "fig = plt.figure(figsize=(7,10))\n",
        "\n",
        "plt.bar ([\"Today-6\",\"Today-5\",\"Today-4\",\"Today-3\",\"Today-2\",\"Yesterday\",\"Today\"], height = value, color=\"black\")\n",
        "plt.ylabel(\"Number of Infections NRW\")\n",
        "plt.xlabel(\"Day\")\n",
        "\n",
        "plt.show()"
      ],
      "execution_count": null,
      "outputs": []
    },
    {
      "cell_type": "code",
      "metadata": {
        "id": "c89yOund-GPN"
      },
      "source": [
        "N = 8\n",
        "casesmonth = (casesMarch, casesApril, casesMay, casesJune, casesJuly, casesAugust, casesSept,casesOct)\n",
        "ind = np.arange(N)    \n",
        "width = 0.35      \n",
        "\n",
        "p1 = plt.bar(ind, casesmonth, width)\n",
        "\n",
        "plt.ylabel('Infections')\n",
        "plt.title('Cases in Germany by month')\n",
        "plt.xticks(ind, ('March','April','May', 'June', 'July', 'Aug', 'Sept', 'October'))\n",
        "plt.yticks()\n",
        "\n",
        "\n",
        "plt.show()"
      ],
      "execution_count": null,
      "outputs": []
    },
    {
      "cell_type": "code",
      "metadata": {
        "id": "dPqc3_rMBoYo",
        "outputId": "74d2ce82-4545-4f06-8844-3b36704a2630",
        "colab": {
          "base_uri": "https://localhost:8080/",
          "height": 293
        }
      },
      "source": [
        "# Comparison between Cases, Free Beds and Occupied Beds by month in Germany\n",
        "\n",
        "casesmonth = (53863.0, 88212.0, 19721.0, 12854.0, 14208.0, 34383.0, 49101.0, 109711.0)\n",
        "deathsmonth = (2356.0, 5680.0, 674.0, 140.0, 127.0, 109.0, 267.0, 285.0)\n",
        "freeBedmonth = (53092.0, 392098.0, 527686.0, 528373.0, 538611.0, 565688.0, 551654.0, 399666.0)\n",
        "occBedmonth = (49813.0, 263390.0, 304119.0, 274298.0, 268378.0, 239516.0, 223255.0, 162074.0)\n",
        "\n",
        "\n",
        "category_names = ['Free Beds', 'Occupied Beds','Cases']\n",
        "results = {\n",
        "    'March': [53092, 49813, 53863.0],\n",
        "    'April': [392098, 263390, 88212.0],\n",
        "    'May': [527686, 304119, 19721.0],\n",
        "    'June': [528373, 274298, 12854.0],\n",
        "    'July': [538611, 268378, 14208.0],\n",
        "    'August': [565688, 239516, 34383.0],\n",
        "    'September': [551654, 223255, 49101.0],\n",
        "    'October': [399666, 162074, 109711.0]\n",
        "}\n",
        "\n",
        "def analise(results, category_names):\n",
        "   \n",
        "    labels = list(results.keys())\n",
        "    data = np.array(list(results.values()))\n",
        "    data_cum = data.cumsum(axis=1)\n",
        "    category_colors = plt.get_cmap('Reds')(np.linspace(0.15, 0.85, data.shape[1]))\n",
        "\n",
        "    fig, ax = plt.subplots(figsize=(29, 6))\n",
        "    ax.invert_yaxis()\n",
        "    ax.xaxis.set_visible(False)\n",
        "    ax.set_xlim(0, np.sum(data, axis=1).max())\n",
        "\n",
        "    for i, (colname, color) in enumerate(zip(category_names, category_colors)):\n",
        "        widths = data[:, i]\n",
        "        starts = data_cum[:, i] - widths\n",
        "        ax.barh(labels, widths, left=starts, height=0.5,\n",
        "                label=colname, color=color)\n",
        "        xcenters = starts + widths / 2\n",
        "\n",
        "        b, g, r, _ = color\n",
        "        text_color = 'black'\n",
        "        for y, (x, c) in enumerate(zip(xcenters, widths)):\n",
        "            ax.text(x, y, str(int(c)), ha='center', va='center',\n",
        "                    color=text_color)\n",
        "    ax.legend(ncol=len(category_names), bbox_to_anchor=(0, 1),\n",
        "              loc='lower left', fontsize='x-large')\n",
        "\n",
        "    return fig, ax\n",
        "\n",
        "analise(results, category_names)\n",
        "plt.show()"
      ],
      "execution_count": 27,
      "outputs": [
        {
          "output_type": "display_data",
          "data": {
            "image/png": "[encoded data removed]",
            "text/plain": [
              "<Figure size 2088x432 with 1 Axes>"
            ]
          },
          "metadata": {
            "tags": [],
            "needs_background": "light"
          }
        }
      ]
    },
    {
      "cell_type": "markdown",
      "metadata": {
        "id": "BHJPrDTkh24N"
      },
      "source": [
        "# Conclusions\n",
        "\n",
        "With this script it was possible to view comparisons, select the conditions that shape the data in order to offer the consumer the diagram with the desired and cleaning information.\n",
        "\n",
        "Another purpose is to participate in the transparency of information, as an attempt to ease the pressure of this new normal.\n",
        "\n",
        "We collect data from - https://www.arcgis.com/home/item.html?id=f10774f1c63e40168479a1feb6c7ca74 - **ArcGIS Online**\n",
        "\n",
        "Who participated on this project?\n",
        "*   **Cedric Pumpe**\n",
        "*   **Daniel Moss**\n",
        "*   **Susana Pinto**"
      ]
    }
  ]
}